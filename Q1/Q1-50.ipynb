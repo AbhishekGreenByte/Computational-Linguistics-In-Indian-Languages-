{
 "cells": [
  {
   "cell_type": "code",
   "execution_count": 1,
   "id": "83bfda77",
   "metadata": {},
   "outputs": [],
   "source": [
    "import numpy as np\n",
    "import pandas as pd\n",
    "from numpy.linalg import norm\n",
    "from gensim.models import Word2Vec\n",
    "from gensim.models import FastText\n",
    "from indic_transliteration import sanscript\n",
    "from indic_transliteration.sanscript import transliterate"
   ]
  },
  {
   "cell_type": "code",
   "execution_count": 2,
   "id": "c3e6e783",
   "metadata": {},
   "outputs": [],
   "source": [
    "def cosine_similarity(vec1,vec2):\n",
    "    vec1=np.array(vec1)\n",
    "    vec2=np.array(vec2)\n",
    "    return vec1.dot(vec2)/(norm(vec1)*norm(vec2))"
   ]
  },
  {
   "cell_type": "code",
   "execution_count": 3,
   "id": "6b2d5ef6",
   "metadata": {},
   "outputs": [],
   "source": [
    "def o2h(text):\n",
    "    return transliterate(text, sanscript.ORIYA, sanscript.DEVANAGARI)"
   ]
  },
  {
   "cell_type": "code",
   "execution_count": 4,
   "id": "b03c0506",
   "metadata": {},
   "outputs": [],
   "source": [
    "def accuracy(y_pred,y_true):\n",
    "    return len(y_pred[y_pred==y_true])/len(y_true)"
   ]
  },
  {
   "cell_type": "code",
   "execution_count": 5,
   "id": "e90b682c",
   "metadata": {},
   "outputs": [],
   "source": [
    "def thresholding(sim,threshold):\n",
    "    s=[]\n",
    "    for i in sim:\n",
    "        if i>threshold:\n",
    "            s.append(1)\n",
    "        else:\n",
    "            s.append(0)\n",
    "    return np.array(s)"
   ]
  },
  {
   "cell_type": "code",
   "execution_count": 6,
   "id": "d458b69c",
   "metadata": {},
   "outputs": [],
   "source": [
    "path='or/50/'"
   ]
  },
  {
   "cell_type": "code",
   "execution_count": 7,
   "id": "d9f81f88",
   "metadata": {},
   "outputs": [],
   "source": [
    "file=pd.read_csv('sim.txt')"
   ]
  },
  {
   "cell_type": "code",
   "execution_count": 8,
   "id": "f7145bd9",
   "metadata": {},
   "outputs": [],
   "source": [
    "tokens=file[['Token1','Token2']].values\n",
    "truth=file['Similar'].values"
   ]
  },
  {
   "cell_type": "markdown",
   "id": "1e4d18ed",
   "metadata": {},
   "source": [
    "# Glove"
   ]
  },
  {
   "cell_type": "code",
   "execution_count": 9,
   "id": "4e3df059",
   "metadata": {},
   "outputs": [],
   "source": [
    "gloveFile=open(path+\"glove/or-d50-glove.txt\",\"r\",encoding='utf-8')\n",
    "glove={}\n",
    "c=1000\n",
    "for i in gloveFile:\n",
    "    i=i.split(\" \")\n",
    "    glove[i[0]]=list(map(float,i[1:]))"
   ]
  },
  {
   "cell_type": "code",
   "execution_count": 10,
   "id": "9cc24f52",
   "metadata": {},
   "outputs": [],
   "source": [
    "simGlove=[]\n",
    "for i in tokens:\n",
    "    simGlove.append(cosine_similarity(glove[o2h(i[0])],glove[o2h(i[1])]))"
   ]
  },
  {
   "cell_type": "code",
   "execution_count": 11,
   "id": "17efe0f9",
   "metadata": {},
   "outputs": [],
   "source": [
    "file['Glove Similarity']=[i*10 for i in simGlove]"
   ]
  },
  {
   "cell_type": "code",
   "execution_count": 12,
   "id": "f433af11",
   "metadata": {},
   "outputs": [],
   "source": [
    "file['Glove 4']=thresholding(simGlove,0.4)\n",
    "file['Glove 5']=thresholding(simGlove,0.5)\n",
    "file['Glove 6']=thresholding(simGlove,0.6)\n",
    "file['Glove 7']=thresholding(simGlove,0.7)\n",
    "file['Glove 8']=thresholding(simGlove,0.8)"
   ]
  },
  {
   "cell_type": "markdown",
   "id": "2b7b30d5",
   "metadata": {},
   "source": [
    "# CBow"
   ]
  },
  {
   "cell_type": "code",
   "execution_count": 13,
   "id": "1e1d13c4",
   "metadata": {},
   "outputs": [],
   "source": [
    "cbow = Word2Vec.load(path+\"cbow/or-d50-m2-cbow.model\")"
   ]
  },
  {
   "cell_type": "code",
   "execution_count": 14,
   "id": "08300211",
   "metadata": {},
   "outputs": [],
   "source": [
    "simCbow=[]\n",
    "for i in tokens:\n",
    "    simCbow.append(cosine_similarity(cbow.wv[o2h(i[0])],cbow.wv[o2h(i[1])]))"
   ]
  },
  {
   "cell_type": "code",
   "execution_count": 15,
   "id": "eed2418c",
   "metadata": {},
   "outputs": [],
   "source": [
    "file['Cbow Similarity']=[i*10 for i in simCbow]"
   ]
  },
  {
   "cell_type": "code",
   "execution_count": 16,
   "id": "e97bf3af",
   "metadata": {},
   "outputs": [],
   "source": [
    "file['Cbow 4']=thresholding(simCbow,0.4)\n",
    "file['Cbow 5']=thresholding(simCbow,0.5)\n",
    "file['Cbow 6']=thresholding(simCbow,0.6)\n",
    "file['Cbow 7']=thresholding(simCbow,0.7)\n",
    "file['Cbow 8']=thresholding(simCbow,0.8)"
   ]
  },
  {
   "cell_type": "markdown",
   "id": "cc47c1c2",
   "metadata": {},
   "source": [
    "# Skip Gram"
   ]
  },
  {
   "cell_type": "code",
   "execution_count": 17,
   "id": "ec92f8d8",
   "metadata": {},
   "outputs": [],
   "source": [
    "sg = Word2Vec.load(path+\"sg/or-d50-m2-sg.model\")"
   ]
  },
  {
   "cell_type": "code",
   "execution_count": 18,
   "id": "42744da8",
   "metadata": {},
   "outputs": [],
   "source": [
    "simSg=[]\n",
    "for i in tokens:\n",
    "    simSg.append(cosine_similarity(sg.wv[o2h(i[0])],sg.wv[o2h(i[1])]))"
   ]
  },
  {
   "cell_type": "code",
   "execution_count": 19,
   "id": "9028062b",
   "metadata": {},
   "outputs": [],
   "source": [
    "file['Sg Similarity']=[i*10 for i in simSg]\n",
    "file['Sg 4']=thresholding(simSg,0.4)\n",
    "file['Sg 5']=thresholding(simSg,0.5)\n",
    "file['Sg 6']=thresholding(simSg,0.6)\n",
    "file['Sg 7']=thresholding(simSg,0.7)\n",
    "file['Sg 8']=thresholding(simSg,0.8)"
   ]
  },
  {
   "cell_type": "markdown",
   "id": "494cf6b7",
   "metadata": {},
   "source": [
    "# Fast Text"
   ]
  },
  {
   "cell_type": "code",
   "execution_count": 20,
   "id": "e9457f63",
   "metadata": {},
   "outputs": [],
   "source": [
    "ft = FastText.load(path+\"fasttext/or-d50-m2-fasttext.model\")"
   ]
  },
  {
   "cell_type": "code",
   "execution_count": 21,
   "id": "fbe9c730",
   "metadata": {},
   "outputs": [],
   "source": [
    "simFt=[]\n",
    "for i in tokens:\n",
    "    simFt.append(cosine_similarity(ft.wv[o2h(i[0])],ft.wv[o2h(i[1])]))"
   ]
  },
  {
   "cell_type": "code",
   "execution_count": 22,
   "id": "714e0fff",
   "metadata": {},
   "outputs": [],
   "source": [
    "file['Ft Similarity']=[i*10 for i in simFt]\n",
    "file['Ft 4']=thresholding(simFt,0.4)\n",
    "file['Ft 5']=thresholding(simFt,0.5)\n",
    "file['Ft 6']=thresholding(simFt,0.6)\n",
    "file['Ft 7']=thresholding(simFt,0.7)\n",
    "file['Ft 8']=thresholding(simFt,0.8)"
   ]
  },
  {
   "cell_type": "markdown",
   "id": "cf0dc92a",
   "metadata": {},
   "source": [
    "# Testing"
   ]
  },
  {
   "cell_type": "code",
   "execution_count": 23,
   "id": "b2a06e95",
   "metadata": {},
   "outputs": [],
   "source": [
    "thresholds=[0.4,0.5,0.6,0.7,0.8]\n",
    "result=open('output/50/accuracy/glove.txt','w')\n",
    "result.write('---------------GLOVE------------------\\n')\n",
    "result.write('Threhold          Accuracy\\n')\n",
    "for threshold in thresholds:\n",
    "    result.write(str(threshold)+'          '+str(accuracy(truth,thresholding(simGlove,threshold)))+'\\n')\n",
    "result.close()"
   ]
  },
  {
   "cell_type": "code",
   "execution_count": 24,
   "id": "c28c650b",
   "metadata": {},
   "outputs": [],
   "source": [
    "thresholds=[0.4,0.5,0.6,0.7,0.8]\n",
    "result=open('output/50/accuracy/Cbow.txt','w')\n",
    "result.write('---------------Cbow------------------\\n')\n",
    "result.write('Threhold          Accuracy\\n')\n",
    "for threshold in thresholds:\n",
    "    result.write(str(threshold)+'          '+str(accuracy(truth,thresholding(simCbow,threshold)))+'\\n')\n",
    "result.close()"
   ]
  },
  {
   "cell_type": "code",
   "execution_count": 25,
   "id": "85242570",
   "metadata": {},
   "outputs": [],
   "source": [
    "thresholds=[0.4,0.5,0.6,0.7,0.8]\n",
    "result=open('output/50/accuracy/Sg.txt','w')\n",
    "result.write('---------------Skip Gram------------------\\n')\n",
    "result.write('Threhold          Accuracy\\n')\n",
    "for threshold in thresholds:\n",
    "    result.write(str(threshold)+'          '+str(accuracy(truth,thresholding(simSg,threshold)))+'\\n')\n",
    "result.close()"
   ]
  },
  {
   "cell_type": "code",
   "execution_count": 26,
   "id": "14c92722",
   "metadata": {},
   "outputs": [],
   "source": [
    "thresholds=[0.4,0.5,0.6,0.7,0.8]\n",
    "result=open('output/50/accuracy/Ft.txt','w')\n",
    "result.write('---------------FastText------------------\\n')\n",
    "result.write('Threhold          Accuracy\\n')\n",
    "for threshold in thresholds:\n",
    "    result.write(str(threshold)+'          '+str(accuracy(truth,thresholding(simFt,threshold)))+'\\n')\n",
    "result.close()"
   ]
  },
  {
   "cell_type": "code",
   "execution_count": 27,
   "id": "9b85efff",
   "metadata": {},
   "outputs": [],
   "source": [
    "thresholds=[4,5,6,7,8]\n",
    "for i in thresholds:\n",
    "    col_name='Glove '+str(i)\n",
    "    filename='output/50/Q1_Glove50_'+str(i)+'.csv'\n",
    "    temp=file[['Token1','Token2','Glove Similarity','Similar',col_name]]\n",
    "    temp.columns=['Word 1','Word 2','Similarity Score','Ground Truth','Label']\n",
    "    temp.to_csv(filename,index=False)"
   ]
  },
  {
   "cell_type": "code",
   "execution_count": 28,
   "id": "0a2591b7",
   "metadata": {},
   "outputs": [],
   "source": [
    "thresholds=[4,5,6,7,8]\n",
    "for i in thresholds:\n",
    "    col_name='Cbow '+str(i)\n",
    "    filename='output/50/Q1_Cbow50_'+str(i)+'.csv'\n",
    "    temp=file[['Token1','Token2','Cbow Similarity','Similar',col_name]]\n",
    "    temp.columns=['Word 1','Word 2','Similarity Score','Ground Truth','Label']\n",
    "    temp.to_csv(filename,index=False)"
   ]
  },
  {
   "cell_type": "code",
   "execution_count": 29,
   "id": "67135ebb",
   "metadata": {},
   "outputs": [],
   "source": [
    "thresholds=[4,5,6,7,8]\n",
    "for i in thresholds:\n",
    "    col_name='Sg '+str(i)\n",
    "    filename='output/50/Q1_SkipGram50_'+str(i)+'.csv'\n",
    "    temp=file[['Token1','Token2','Sg Similarity','Similar',col_name]]\n",
    "    temp.columns=['Word 1','Word 2','Similarity Score','Ground Truth','Label']\n",
    "    temp.to_csv(filename,index=False)"
   ]
  },
  {
   "cell_type": "code",
   "execution_count": 30,
   "id": "05bdf0df",
   "metadata": {},
   "outputs": [],
   "source": [
    "thresholds=[4,5,6,7,8]\n",
    "for i in thresholds:\n",
    "    col_name='Ft '+str(i)\n",
    "    filename='output/50/Q1_FastText50_'+str(i)+'.csv'\n",
    "    temp=file[['Token1','Token2','Ft Similarity','Similar',col_name]]\n",
    "    temp.columns=['Word 1','Word 2','Similarity Score','Ground Truth','Label']\n",
    "    temp.to_csv(filename,index=False)"
   ]
  }
 ],
 "metadata": {
  "kernelspec": {
   "display_name": "Python 3 (ipykernel)",
   "language": "python",
   "name": "python3"
  },
  "language_info": {
   "codemirror_mode": {
    "name": "ipython",
    "version": 3
   },
   "file_extension": ".py",
   "mimetype": "text/x-python",
   "name": "python",
   "nbconvert_exporter": "python",
   "pygments_lexer": "ipython3",
   "version": "3.9.7"
  }
 },
 "nbformat": 4,
 "nbformat_minor": 5
}
