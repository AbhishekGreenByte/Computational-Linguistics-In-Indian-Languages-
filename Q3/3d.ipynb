{
 "cells": [
  {
   "cell_type": "code",
   "execution_count": 2,
   "id": "29cfe5b9",
   "metadata": {},
   "outputs": [],
   "source": [
    "import pickle\n",
    "import numpy as np\n",
    "import pandas as pd\n",
    "import matplotlib as mpl\n",
    "import matplotlib.pyplot as plt\n",
    "from scipy.optimize import minimize_scalar\n",
    "import math"
   ]
  },
  {
   "cell_type": "markdown",
   "id": "1969265e",
   "metadata": {},
   "source": [
    "# Characters"
   ]
  },
  {
   "cell_type": "code",
   "execution_count": 3,
   "id": "ac04e69e",
   "metadata": {},
   "outputs": [],
   "source": [
    "file=open('pickle/char.pkl','rb')\n",
    "unigram_chars=pickle.load(file)\n",
    "file.close()"
   ]
  },
  {
   "cell_type": "code",
   "execution_count": 4,
   "id": "0f10b276",
   "metadata": {},
   "outputs": [],
   "source": [
    "frequencies=sorted(unigram_chars.items(), key=lambda x: x[1], reverse=True)"
   ]
  },
  {
   "cell_type": "code",
   "execution_count": 5,
   "id": "f97c6a8b",
   "metadata": {},
   "outputs": [],
   "source": [
    "x=[i for i in range(1,len(frequencies)+1)]\n",
    "y=[i[1] for i in frequencies]\n",
    "xlog=[math.log(i) for i in x]\n",
    "ylog=[math.log(i) for i in y]"
   ]
  },
  {
   "cell_type": "code",
   "execution_count": 6,
   "id": "6535414b",
   "metadata": {},
   "outputs": [
    {
     "data": {
      "image/png": "[encoded data removed]",
      "text/plain": [
       "<Figure size 432x288 with 1 Axes>"
      ]
     },
     "metadata": {
      "needs_background": "light"
     },
     "output_type": "display_data"
    }
   ],
   "source": [
    "plt.bar(x,y,width=0.5,align='edge')\n",
    "plt.xlabel('Rank')\n",
    "plt.ylabel('Frequency')\n",
    "plt.xticks([1, 5,10,15,20,25,30,35,40,45,50,60,100])\n",
    "plt.plot(x,y,c='r')\n",
    "plt.show()"
   ]
  },
  {
   "cell_type": "markdown",
   "id": "4668724e",
   "metadata": {},
   "source": [
    "**This plot looks like Zipfian Distribution so we can say this follows zipfian distribution**"
   ]
  },
  {
   "cell_type": "markdown",
   "id": "d4afd08d",
   "metadata": {},
   "source": [
    "# Words"
   ]
  },
  {
   "cell_type": "code",
   "execution_count": 7,
   "id": "7984cb54",
   "metadata": {},
   "outputs": [],
   "source": [
    "file=open('pickle/word.pkl','rb')\n",
    "unigram_words=pickle.load(file)\n",
    "file.close()"
   ]
  },
  {
   "cell_type": "code",
   "execution_count": 8,
   "id": "ebb621c9",
   "metadata": {},
   "outputs": [],
   "source": [
    "frequencies=sorted(unigram_words.items(), key=lambda x: x[1], reverse=True)"
   ]
  },
  {
   "cell_type": "code",
   "execution_count": 9,
   "id": "9113bc70",
   "metadata": {},
   "outputs": [],
   "source": [
    "x=[i for i in range(1,len(frequencies)+1)]\n",
    "y=[i[1] for i in frequencies]\n",
    "xlog=[math.log(i) for i in x]\n",
    "ylog=[math.log(i) for i in y]"
   ]
  },
  {
   "cell_type": "code",
   "execution_count": 10,
   "id": "4ce08d2d",
   "metadata": {},
   "outputs": [
    {
     "data": {
      "image/png": "[encoded data removed]",
      "text/plain": [
       "<Figure size 432x288 with 1 Axes>"
      ]
     },
     "metadata": {
      "needs_background": "light"
     },
     "output_type": "display_data"
    }
   ],
   "source": [
    "plt.xlabel('Rank')\n",
    "plt.ylabel('Frequency')\n",
    "plt.plot(x,y,c='r')\n",
    "plt.show()"
   ]
  },
  {
   "cell_type": "markdown",
   "id": "43b6d3f5",
   "metadata": {},
   "source": [
    "**This plot looks like Zipfian Distribution so we can say this follows zipfian distribution**"
   ]
  },
  {
   "cell_type": "markdown",
   "id": "ca298701",
   "metadata": {},
   "source": [
    "# Syllables"
   ]
  },
  {
   "cell_type": "code",
   "execution_count": 11,
   "id": "1da60ba5",
   "metadata": {},
   "outputs": [],
   "source": [
    "file=open('pickle/syllable.pkl','rb')\n",
    "unigram_syll=pickle.load(file)\n",
    "file.close()"
   ]
  },
  {
   "cell_type": "code",
   "execution_count": 12,
   "id": "933446db",
   "metadata": {},
   "outputs": [],
   "source": [
    "frequencies=sorted(unigram_syll.items(), key=lambda x: x[1], reverse=True)"
   ]
  },
  {
   "cell_type": "code",
   "execution_count": 13,
   "id": "5ba44ee4",
   "metadata": {},
   "outputs": [],
   "source": [
    "x=[i for i in range(1,len(frequencies)+1)]\n",
    "y=[i[1] for i in frequencies]"
   ]
  },
  {
   "cell_type": "code",
   "execution_count": 14,
   "id": "966d2ecc",
   "metadata": {},
   "outputs": [],
   "source": [
    "xlog=[math.log(i) for i in x]\n",
    "ylog=[math.log(i) for i in y]"
   ]
  },
  {
   "cell_type": "code",
   "execution_count": 15,
   "id": "0ca7277a",
   "metadata": {},
   "outputs": [
    {
     "data": {
      "image/png": "[encoded data removed]",
      "text/plain": [
       "<Figure size 432x288 with 1 Axes>"
      ]
     },
     "metadata": {
      "needs_background": "light"
     },
     "output_type": "display_data"
    }
   ],
   "source": [
    "plt.bar(x,y,width=1,align='edge')\n",
    "plt.xlabel('Rank')\n",
    "plt.ylabel('Frequency')\n",
    "plt.xticks([x[i] for i in range(0,len(x),500)])\n",
    "plt.plot(x,y,c='r')\n",
    "plt.show()"
   ]
  },
  {
   "cell_type": "markdown",
   "id": "103bc46f",
   "metadata": {},
   "source": [
    "**This plot looks like Zipfian Distribution so we can say this follows zipfian distribution**"
   ]
  }
 ],
 "metadata": {
  "kernelspec": {
   "display_name": "Python 3 (ipykernel)",
   "language": "python",
   "name": "python3"
  },
  "language_info": {
   "codemirror_mode": {
    "name": "ipython",
    "version": 3
   },
   "file_extension": ".py",
   "mimetype": "text/x-python",
   "name": "python",
   "nbconvert_exporter": "python",
   "pygments_lexer": "ipython3",
   "version": "3.9.7"
  }
 },
 "nbformat": 4,
 "nbformat_minor": 5
}
